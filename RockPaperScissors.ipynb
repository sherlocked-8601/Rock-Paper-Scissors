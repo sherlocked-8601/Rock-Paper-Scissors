{
 "cells": [
  {
   "cell_type": "code",
   "execution_count": 1,
   "id": "a1495061",
   "metadata": {},
   "outputs": [
    {
     "name": "stdout",
     "output_type": "stream",
     "text": [
      "--------------------------------------------------------------\n",
      "Enter rock paper or scissor :  Arrow\n",
      "--------------------------------------------------------------\n",
      "paper\n",
      "--------------------------------------------------------------\n",
      "Invalid Input. Try something else\n",
      "--------------------------------------------------------------\n",
      "Enter rock paper or scissor :  rock\n",
      "--------------------------------------------------------------\n",
      "scissor\n",
      "--------------------------------------------------------------\n",
      "Computer loses! You win!\n",
      "--------------------------------------------------------------\n"
     ]
    }
   ],
   "source": [
    "import random\n",
    "while 2 == 2:\n",
    "    print('--------------------------------------------------------------')\n",
    "    get_again = input('Enter rock paper or scissor :  ')\n",
    "    make_use = random.choice(['rock','paper','scissor'])\n",
    "    print('--------------------------------------------------------------')\n",
    "    print(make_use)\n",
    "    print('--------------------------------------------------------------')\n",
    "    if get_again == 'rock' and make_use == 'paper':\n",
    "        print('Computer wins! You \"LOSE\" :( ')\n",
    "        print('--------------------------------------------------------------')\n",
    "        continue\n",
    "    elif get_again == 'rock' and make_use == 'scissor':\n",
    "        print('Computer loses! You win!')\n",
    "        print('--------------------------------------------------------------')\n",
    "        break\n",
    "    elif get_again == 'rock' and make_use == 'rock':\n",
    "        print('It\\'s a tie ! try again !')\n",
    "        print('--------------------------------------------------------------')\n",
    "        continue\n",
    "    elif get_again == 'paper' and make_use == 'paper':\n",
    "        print('It\\'s a tie ! try again !')\n",
    "        print('--------------------------------------------------------------')\n",
    "        continue\n",
    "    elif get_again == 'scissor' and make_use == 'scissor':\n",
    "        print('It\\'s a tie ! try again !')\n",
    "        print('--------------------------------------------------------------')\n",
    "        continue\n",
    "    elif get_again == 'paper' and make_use == 'scissor':\n",
    "        print('Computer wins! You \"LOSE\" :( ')\n",
    "        print('--------------------------------------------------------------')\n",
    "        continue\n",
    "    elif get_again == 'scissor' and make_use == 'paper':\n",
    "        print('Computer loses! You win! :) ')\n",
    "        print('--------------------------------------------------------------')\n",
    "        break\n",
    "    elif get_again == 'paper' and make_use == 'rock':\n",
    "        print('Computer wins! You \"LOSE\" :( ')\n",
    "        print('--------------------------------------------------------------')\n",
    "        continue\n",
    "    elif get_again == 'scissor' and make_use == 'rock':\n",
    "        print('Computer wins! You \"LOSE\" :( ')\n",
    "        print('--------------------------------------------------------------')\n",
    "        continue\n",
    "    else :\n",
    "        print('Invalid Input. Try something else')\n",
    "        continue"
   ]
  }
 ],
 "metadata": {
  "kernelspec": {
   "display_name": "Python 3 (ipykernel)",
   "language": "python",
   "name": "python3"
  },
  "language_info": {
   "codemirror_mode": {
    "name": "ipython",
    "version": 3
   },
   "file_extension": ".py",
   "mimetype": "text/x-python",
   "name": "python",
   "nbconvert_exporter": "python",
   "pygments_lexer": "ipython3",
   "version": "3.9.7"
  }
 },
 "nbformat": 4,
 "nbformat_minor": 5
}
